{
 "cells": [
  {
   "cell_type": "markdown",
   "metadata": {},
   "source": [
    "# Data analysis of customer data in an insurance company\n",
    "\n",
    "### Attribute Information\n",
    "\n",
    "- **age:** age of primary beneficiary.\n",
    "- **sex:** insurance contractor gender, female, male.\n",
    "- **bmi:** Body mass index, providing an understanding of body, weights that are relatively high or low relative to height,     objective index of body weight (kg / m ^ 2) using the ratio of height to weight, ideally 18.5 to 24.\n",
    "- **smoker:** Smoking. \n",
    "- **children:** Number of children covered by health insurance / Number of dependents.\n",
    "- **region:** The beneficiary's residential area in the US, northeast, southeast, southwest, northwest,\n",
    "- **charges:** Individual medical costs billed by health insurance."
   ]
  },
  {
   "cell_type": "code",
   "execution_count": 1,
   "metadata": {},
   "outputs": [
    {
     "data": {
      "text/plain": [
       "<function seaborn.rcmod.set>"
      ]
     },
     "execution_count": 1,
     "metadata": {},
     "output_type": "execute_result"
    }
   ],
   "source": [
    "# importing all the required packages\n",
    "import pandas as pd\n",
    "import numpy as np\n",
    "from matplotlib import pyplot as plt\n",
    "import seaborn as sns\n",
    "import scipy.stats as stats\n",
    "from sklearn.preprocessing import LabelEncoder\n",
    "import copy\n",
    "sns.set"
   ]
  },
  {
   "cell_type": "code",
   "execution_count": 2,
   "metadata": {
    "collapsed": true
   },
   "outputs": [],
   "source": [
    "df=pd.read_csv('insurance.csv')"
   ]
  },
  {
   "cell_type": "code",
   "execution_count": 3,
   "metadata": {},
   "outputs": [
    {
     "data": {
      "text/html": [
       "<div>\n",
       "<style>\n",
       "    .dataframe thead tr:only-child th {\n",
       "        text-align: right;\n",
       "    }\n",
       "\n",
       "    .dataframe thead th {\n",
       "        text-align: left;\n",
       "    }\n",
       "\n",
       "    .dataframe tbody tr th {\n",
       "        vertical-align: top;\n",
       "    }\n",
       "</style>\n",
       "<table border=\"1\" class=\"dataframe\">\n",
       "  <thead>\n",
       "    <tr style=\"text-align: right;\">\n",
       "      <th></th>\n",
       "      <th>age</th>\n",
       "      <th>sex</th>\n",
       "      <th>bmi</th>\n",
       "      <th>children</th>\n",
       "      <th>smoker</th>\n",
       "      <th>region</th>\n",
       "      <th>charges</th>\n",
       "    </tr>\n",
       "  </thead>\n",
       "  <tbody>\n",
       "    <tr>\n",
       "      <th>0</th>\n",
       "      <td>19</td>\n",
       "      <td>female</td>\n",
       "      <td>27.900</td>\n",
       "      <td>0</td>\n",
       "      <td>yes</td>\n",
       "      <td>southwest</td>\n",
       "      <td>16884.92400</td>\n",
       "    </tr>\n",
       "    <tr>\n",
       "      <th>1</th>\n",
       "      <td>18</td>\n",
       "      <td>male</td>\n",
       "      <td>33.770</td>\n",
       "      <td>1</td>\n",
       "      <td>no</td>\n",
       "      <td>southeast</td>\n",
       "      <td>1725.55230</td>\n",
       "    </tr>\n",
       "    <tr>\n",
       "      <th>2</th>\n",
       "      <td>28</td>\n",
       "      <td>male</td>\n",
       "      <td>33.000</td>\n",
       "      <td>3</td>\n",
       "      <td>no</td>\n",
       "      <td>southeast</td>\n",
       "      <td>4449.46200</td>\n",
       "    </tr>\n",
       "    <tr>\n",
       "      <th>3</th>\n",
       "      <td>33</td>\n",
       "      <td>male</td>\n",
       "      <td>22.705</td>\n",
       "      <td>0</td>\n",
       "      <td>no</td>\n",
       "      <td>northwest</td>\n",
       "      <td>21984.47061</td>\n",
       "    </tr>\n",
       "    <tr>\n",
       "      <th>4</th>\n",
       "      <td>32</td>\n",
       "      <td>male</td>\n",
       "      <td>28.880</td>\n",
       "      <td>0</td>\n",
       "      <td>no</td>\n",
       "      <td>northwest</td>\n",
       "      <td>3866.85520</td>\n",
       "    </tr>\n",
       "  </tbody>\n",
       "</table>\n",
       "</div>"
      ],
      "text/plain": [
       "   age     sex     bmi  children smoker     region      charges\n",
       "0   19  female  27.900         0    yes  southwest  16884.92400\n",
       "1   18    male  33.770         1     no  southeast   1725.55230\n",
       "2   28    male  33.000         3     no  southeast   4449.46200\n",
       "3   33    male  22.705         0     no  northwest  21984.47061\n",
       "4   32    male  28.880         0     no  northwest   3866.85520"
      ]
     },
     "execution_count": 3,
     "metadata": {},
     "output_type": "execute_result"
    }
   ],
   "source": [
    "df.head()"
   ]
  },
  {
   "cell_type": "markdown",
   "metadata": {},
   "source": [
    "## Basic EDA\n",
    "* Find the shape of the data,data type of individual columns\n",
    "* Check the presence of missing values\n",
    "* Descriptive stats of numerical columns\n",
    "* Find the distribution of numerical columns and the asssociated skeweness and presence of outliers \n",
    "* Distribution of categorical columns"
   ]
  },
  {
   "cell_type": "code",
   "execution_count": 4,
   "metadata": {},
   "outputs": [
    {
     "data": {
      "text/plain": [
       "(1338, 7)"
      ]
     },
     "execution_count": 4,
     "metadata": {},
     "output_type": "execute_result"
    }
   ],
   "source": [
    "df.shape"
   ]
  },
  {
   "cell_type": "code",
   "execution_count": 5,
   "metadata": {},
   "outputs": [
    {
     "name": "stdout",
     "output_type": "stream",
     "text": [
      "<class 'pandas.core.frame.DataFrame'>\n",
      "RangeIndex: 1338 entries, 0 to 1337\n",
      "Data columns (total 7 columns):\n",
      "age         1338 non-null int64\n",
      "sex         1338 non-null object\n",
      "bmi         1338 non-null float64\n",
      "children    1338 non-null int64\n",
      "smoker      1338 non-null object\n",
      "region      1338 non-null object\n",
      "charges     1338 non-null float64\n",
      "dtypes: float64(2), int64(2), object(3)\n",
      "memory usage: 73.2+ KB\n"
     ]
    }
   ],
   "source": [
    "df.info()"
   ]
  },
  {
   "cell_type": "code",
   "execution_count": 6,
   "metadata": {},
   "outputs": [
    {
     "data": {
      "text/html": [
       "<div>\n",
       "<style>\n",
       "    .dataframe thead tr:only-child th {\n",
       "        text-align: right;\n",
       "    }\n",
       "\n",
       "    .dataframe thead th {\n",
       "        text-align: left;\n",
       "    }\n",
       "\n",
       "    .dataframe tbody tr th {\n",
       "        vertical-align: top;\n",
       "    }\n",
       "</style>\n",
       "<table border=\"1\" class=\"dataframe\">\n",
       "  <thead>\n",
       "    <tr style=\"text-align: right;\">\n",
       "      <th></th>\n",
       "      <th>age</th>\n",
       "      <th>sex</th>\n",
       "      <th>bmi</th>\n",
       "      <th>children</th>\n",
       "      <th>smoker</th>\n",
       "      <th>region</th>\n",
       "      <th>charges</th>\n",
       "    </tr>\n",
       "  </thead>\n",
       "  <tbody>\n",
       "    <tr>\n",
       "      <th>False</th>\n",
       "      <td>1338</td>\n",
       "      <td>1338</td>\n",
       "      <td>1338</td>\n",
       "      <td>1338</td>\n",
       "      <td>1338</td>\n",
       "      <td>1338</td>\n",
       "      <td>1338</td>\n",
       "    </tr>\n",
       "  </tbody>\n",
       "</table>\n",
       "</div>"
      ],
      "text/plain": [
       "        age   sex   bmi  children  smoker  region  charges\n",
       "False  1338  1338  1338      1338    1338    1338     1338"
      ]
     },
     "execution_count": 6,
     "metadata": {},
     "output_type": "execute_result"
    }
   ],
   "source": [
    "df.isnull().apply(pd.value_counts)"
   ]
  },
  {
   "cell_type": "code",
   "execution_count": 7,
   "metadata": {},
   "outputs": [
    {
     "data": {
      "text/html": [
       "<div>\n",
       "<style>\n",
       "    .dataframe thead tr:only-child th {\n",
       "        text-align: right;\n",
       "    }\n",
       "\n",
       "    .dataframe thead th {\n",
       "        text-align: left;\n",
       "    }\n",
       "\n",
       "    .dataframe tbody tr th {\n",
       "        vertical-align: top;\n",
       "    }\n",
       "</style>\n",
       "<table border=\"1\" class=\"dataframe\">\n",
       "  <thead>\n",
       "    <tr style=\"text-align: right;\">\n",
       "      <th></th>\n",
       "      <th>count</th>\n",
       "      <th>mean</th>\n",
       "      <th>std</th>\n",
       "      <th>min</th>\n",
       "      <th>25%</th>\n",
       "      <th>50%</th>\n",
       "      <th>75%</th>\n",
       "      <th>max</th>\n",
       "    </tr>\n",
       "  </thead>\n",
       "  <tbody>\n",
       "    <tr>\n",
       "      <th>age</th>\n",
       "      <td>1338.0</td>\n",
       "      <td>39.207025</td>\n",
       "      <td>14.049960</td>\n",
       "      <td>18.0000</td>\n",
       "      <td>27.00000</td>\n",
       "      <td>39.000</td>\n",
       "      <td>51.000000</td>\n",
       "      <td>64.00000</td>\n",
       "    </tr>\n",
       "    <tr>\n",
       "      <th>bmi</th>\n",
       "      <td>1338.0</td>\n",
       "      <td>30.663397</td>\n",
       "      <td>6.098187</td>\n",
       "      <td>15.9600</td>\n",
       "      <td>26.29625</td>\n",
       "      <td>30.400</td>\n",
       "      <td>34.693750</td>\n",
       "      <td>53.13000</td>\n",
       "    </tr>\n",
       "    <tr>\n",
       "      <th>children</th>\n",
       "      <td>1338.0</td>\n",
       "      <td>1.094918</td>\n",
       "      <td>1.205493</td>\n",
       "      <td>0.0000</td>\n",
       "      <td>0.00000</td>\n",
       "      <td>1.000</td>\n",
       "      <td>2.000000</td>\n",
       "      <td>5.00000</td>\n",
       "    </tr>\n",
       "    <tr>\n",
       "      <th>charges</th>\n",
       "      <td>1338.0</td>\n",
       "      <td>13270.422265</td>\n",
       "      <td>12110.011237</td>\n",
       "      <td>1121.8739</td>\n",
       "      <td>4740.28715</td>\n",
       "      <td>9382.033</td>\n",
       "      <td>16639.912515</td>\n",
       "      <td>63770.42801</td>\n",
       "    </tr>\n",
       "  </tbody>\n",
       "</table>\n",
       "</div>"
      ],
      "text/plain": [
       "           count          mean           std        min         25%       50%  \\\n",
       "age       1338.0     39.207025     14.049960    18.0000    27.00000    39.000   \n",
       "bmi       1338.0     30.663397      6.098187    15.9600    26.29625    30.400   \n",
       "children  1338.0      1.094918      1.205493     0.0000     0.00000     1.000   \n",
       "charges   1338.0  13270.422265  12110.011237  1121.8739  4740.28715  9382.033   \n",
       "\n",
       "                   75%          max  \n",
       "age          51.000000     64.00000  \n",
       "bmi          34.693750     53.13000  \n",
       "children      2.000000      5.00000  \n",
       "charges   16639.912515  63770.42801  "
      ]
     },
     "execution_count": 7,
     "metadata": {},
     "output_type": "execute_result"
    }
   ],
   "source": [
    "df.describe().T"
   ]
  },
  {
   "cell_type": "markdown",
   "metadata": {},
   "source": [
    "## Following are the derived information based on 5 point summary\n",
    "\n",
    "* Looking at the age column, data looks representative of the true age distribution of the adult population.\n",
    "* Very few people have less than 2 chldren. 75% customers have 2 or less children.\n",
    "* Mean and Median of bmi is very identical which would possibly describe normal distribution.\n",
    "* The claimed amount is higly skewed as most people would require basic medi-care and only few suffer from diseases which cost more to get rid of\n"
   ]
  },
  {
   "cell_type": "code",
   "execution_count": 8,
   "metadata": {},
   "outputs": [
    {
     "data": {
      "image/png": "[encoded data removed]",
      "text/plain": [
       "<matplotlib.figure.Figure at 0x1425f7a7710>"
      ]
     },
     "metadata": {},
     "output_type": "display_data"
    }
   ],
   "source": [
    "#Plots to see the distribution of the continuous features individually\n",
    "\n",
    "plt.figure(figsize= (20,15))\n",
    "plt.subplot(3,3,1)\n",
    "plt.hist(df['bmi'], color='lightblue', edgecolor = 'black', alpha = 0.7)\n",
    "plt.xlabel('bmi')\n",
    "\n",
    "plt.subplot(3,3,2)\n",
    "plt.hist(df.age, color='lightblue', edgecolor = 'black', alpha = 0.7)\n",
    "plt.xlabel('age')\n",
    "\n",
    "plt.subplot(3,3,3)\n",
    "plt.hist(df.charges, color='lightblue', edgecolor = 'black', alpha = 0.7)\n",
    "plt.xlabel('charges')\n",
    "\n",
    "\n",
    "\n",
    "\n",
    "plt.show()"
   ]
  },
  {
   "cell_type": "markdown",
   "metadata": {},
   "source": [
    "## Inferences based on visual evidences:\n",
    "\n",
    "* bmi looks normally distributed.\n",
    "* age is apparently uniformly distributed.\n",
    "* charges is right skewed. "
   ]
  },
  {
   "cell_type": "code",
   "execution_count": 9,
   "metadata": {},
   "outputs": [
    {
     "data": {
      "text/html": [
       "<div>\n",
       "<style>\n",
       "    .dataframe thead tr:only-child th {\n",
       "        text-align: right;\n",
       "    }\n",
       "\n",
       "    .dataframe thead th {\n",
       "        text-align: left;\n",
       "    }\n",
       "\n",
       "    .dataframe tbody tr th {\n",
       "        vertical-align: top;\n",
       "    }\n",
       "</style>\n",
       "<table border=\"1\" class=\"dataframe\">\n",
       "  <thead>\n",
       "    <tr style=\"text-align: right;\">\n",
       "      <th></th>\n",
       "      <th>Skewness</th>\n",
       "    </tr>\n",
       "  </thead>\n",
       "  <tbody>\n",
       "    <tr>\n",
       "      <th>age</th>\n",
       "      <td>0.055610</td>\n",
       "    </tr>\n",
       "    <tr>\n",
       "      <th>bmi</th>\n",
       "      <td>0.283729</td>\n",
       "    </tr>\n",
       "    <tr>\n",
       "      <th>charges</th>\n",
       "      <td>1.514180</td>\n",
       "    </tr>\n",
       "  </tbody>\n",
       "</table>\n",
       "</div>"
      ],
      "text/plain": [
       "         Skewness\n",
       "age      0.055610\n",
       "bmi      0.283729\n",
       "charges  1.514180"
      ]
     },
     "execution_count": 9,
     "metadata": {},
     "output_type": "execute_result"
    }
   ],
   "source": [
    "# using skew() function could find skewness of children which is of no interest.\n",
    "\n",
    "Skewness=pd.DataFrame({'Skewness':[stats.skew(df.age),stats.skew(df.bmi),stats.skew(df.charges)]},index=['age','bmi','charges'])\n",
    "Skewness"
   ]
  },
  {
   "cell_type": "markdown",
   "metadata": {},
   "source": [
    "* distribution of age is apparently uniform ;hence,the skewness is negligible.\n",
    "* skew of bmi is  very less.\n",
    "* charges are right skewed."
   ]
  },
  {
   "cell_type": "code",
   "execution_count": 10,
   "metadata": {},
   "outputs": [
    {
     "data": {
      "image/png": "[encoded data removed]",
      "text/plain": [
       "<matplotlib.figure.Figure at 0x1425f79b7f0>"
      ]
     },
     "metadata": {},
     "output_type": "display_data"
    }
   ],
   "source": [
    "plt.figure(figsize= (20,15))\n",
    "plt.subplot(3,1,1)\n",
    "sns.boxplot(x= df.bmi, color='lightblue')\n",
    "\n",
    "plt.subplot(3,1,2)\n",
    "sns.boxplot(x= df.age, color='lightblue')\n",
    "\n",
    "plt.subplot(3,1,3)\n",
    "sns.boxplot(x= df.charges, color='lightblue')\n",
    "\n",
    "plt.show()"
   ]
  },
  {
   "cell_type": "markdown",
   "metadata": {},
   "source": [
    "* bmi has few extreme values.\n",
    "* charges has many extreme values as it is right skewed.\n",
    "\n",
    "** The extreme values outside whiskers gives the information about the variables which helps in making inferences about the population parameters;Hence, shall not be removed.**"
   ]
  },
  {
   "cell_type": "code",
   "execution_count": 11,
   "metadata": {},
   "outputs": [
    {
     "data": {
      "image/png": "[encoded data removed]",
      "text/plain": [
       "<matplotlib.figure.Figure at 0x142592ed630>"
      ]
     },
     "metadata": {},
     "output_type": "display_data"
    }
   ],
   "source": [
    "plt.figure(figsize=(20,25))\n",
    "plt.subplot(4,2,1)\n",
    "sns.countplot(x=df.smoker,color='lightgreen',edgecolor='black',alpha=0.7)\n",
    "plt.subplot(4,2,2)\n",
    "sns.countplot(x=df.children,color='lightgreen',edgecolor='black',alpha=0.7)\n",
    "plt.subplot(4,2,3)\n",
    "sns.countplot(x=df.sex,color='lightgreen',edgecolor='black',alpha=0.7)\n",
    "plt.subplot(4,2,4)\n",
    "sns.countplot(x=df.region,color='lightgreen',edgecolor='black',alpha=0.7)\n",
    "\n",
    "\n",
    "plt.show()"
   ]
  },
  {
   "cell_type": "markdown",
   "metadata": {
    "collapsed": true
   },
   "source": [
    "## Inference based on visual evidence\n",
    "\n",
    "* Number of non-smokers is significantly more than that of smokers.\n",
    "* Most customer are having children less than and equal to 2.\n",
    "* The concentration of male and female customers are of almost same amount.\n",
    "* The concentration of customers across regions are approximately same.\n",
    " "
   ]
  },
  {
   "cell_type": "markdown",
   "metadata": {},
   "source": [
    "## 1] Do charges of people who smoke differ significantly from the people who don't?"
   ]
  },
  {
   "cell_type": "code",
   "execution_count": 12,
   "metadata": {},
   "outputs": [
    {
     "data": {
      "text/plain": [
       "no     1064\n",
       "yes     274\n",
       "Name: smoker, dtype: int64"
      ]
     },
     "execution_count": 12,
     "metadata": {},
     "output_type": "execute_result"
    }
   ],
   "source": [
    "df.smoker.value_counts()"
   ]
  },
  {
   "cell_type": "code",
   "execution_count": 13,
   "metadata": {},
   "outputs": [
    {
     "data": {
      "image/png": "[encoded data removed]",
      "text/plain": [
       "<matplotlib.figure.Figure at 0x142604862e8>"
      ]
     },
     "metadata": {},
     "output_type": "display_data"
    }
   ],
   "source": [
    "sns.stripplot(df['smoker'],df['charges'],jitter=True)\n",
    "plt.show()"
   ]
  },
  {
   "cell_type": "code",
   "execution_count": 14,
   "metadata": {},
   "outputs": [
    {
     "name": "stdout",
     "output_type": "stream",
     "text": [
      "32050.23183153285\n",
      "8434.268297856199\n"
     ]
    }
   ],
   "source": [
    "x=df[df['smoker']=='yes'].charges #yields charges for all smokers\n",
    "y=df[df['smoker']=='no'].charges #yields charges for all non-smokers \n",
    "print(x.mean())\n",
    "print(y.mean())"
   ]
  },
  {
   "cell_type": "markdown",
   "metadata": {},
   "source": [
    "** We have two obtained two sample, one which is list of charges of all smokers and other the list of charges of all non_smokers.**\n",
    "\n",
    "* We conduct a hypothesis testing to check whether a charges of people who smoke differ significantly from the people who don't.\n",
    "\n",
    "* Calculates the T-test for the means of *two independent* samples of scores.\n",
    "\n",
    "This is a two-sided test for the null hypothesis that 2 independent samples\n",
    "have identical average (expected) values. This test assumes that the\n",
    "populations have identical variances by default\n"
   ]
  },
  {
   "cell_type": "code",
   "execution_count": 15,
   "metadata": {},
   "outputs": [
    {
     "name": "stdout",
     "output_type": "stream",
     "text": [
      "The charges of people who smoke and don't smoke are not same as the p_value (8.271435842177219e-283) < 0.05\n"
     ]
    }
   ],
   "source": [
    "Ho=\"The charges of people who smoke and don't smoke are same \" # null hypothesis\n",
    "Ha=\"The charges of people who smoke and don't smoke are not same\" # alternate hypothesis\n",
    "\n",
    "\n",
    "t, p_value  = stats.ttest_ind(x,y)  #Performing an Independent t-test\n",
    "\n",
    "if p_value < 0.05:  # Setting our significance level at 5%\n",
    "    print(f'{Ha} as the p_value ({p_value}) < 0.05')\n",
    "else:\n",
    "    print(f'{Ho} as the p_value ({p_value}) > 0.05')"
   ]
  },
  {
   "cell_type": "markdown",
   "metadata": {},
   "source": [
    "**Conclusion:** There is sufficient evidence to conclude that the charges of people who smoke and don't smoke are not same."
   ]
  },
  {
   "cell_type": "markdown",
   "metadata": {},
   "source": [
    "## 2] Does bmi of males differ significantly from that of females?"
   ]
  },
  {
   "cell_type": "code",
   "execution_count": 16,
   "metadata": {},
   "outputs": [
    {
     "data": {
      "text/plain": [
       "male      676\n",
       "female    662\n",
       "Name: sex, dtype: int64"
      ]
     },
     "execution_count": 16,
     "metadata": {},
     "output_type": "execute_result"
    }
   ],
   "source": [
    "df.sex.value_counts()"
   ]
  },
  {
   "cell_type": "code",
   "execution_count": 17,
   "metadata": {},
   "outputs": [
    {
     "data": {
      "image/png": "[encoded data removed]",
      "text/plain": [
       "<matplotlib.figure.Figure at 0x142602472b0>"
      ]
     },
     "metadata": {},
     "output_type": "display_data"
    }
   ],
   "source": [
    "sns.stripplot(y=df.bmi,x=df.sex,jitter=True)\n",
    "plt.show()"
   ]
  },
  {
   "cell_type": "markdown",
   "metadata": {},
   "source": [
    "* Based on the above plot, bmi of male looks higher than that of female. "
   ]
  },
  {
   "cell_type": "code",
   "execution_count": 18,
   "metadata": {
    "collapsed": true
   },
   "outputs": [],
   "source": [
    "b_m=df[df.sex=='male'].bmi # bmi values of all male customers\n",
    "b_f=df[df.sex== 'female'].bmi # bmi values of all female customers"
   ]
  },
  {
   "cell_type": "code",
   "execution_count": 19,
   "metadata": {},
   "outputs": [
    {
     "name": "stdout",
     "output_type": "stream",
     "text": [
      "the p_value (0.08997637178984932) > 0.05\n"
     ]
    }
   ],
   "source": [
    "# T-test to check dependency of bmi on gender\n",
    "Ho = \"Gender has no effect on bmi\"   # Stating the Null Hypothesis\n",
    "Ha = \"Gender has an effect on bmi\"   # Stating the Alternate Hypothesis\n",
    "\n",
    "\n",
    "t, p_value  = stats.ttest_ind(b_m,b_f)  #Performing an Independent t-test\n",
    "\n",
    "if p_value < 0.05:  # Setting our significance level at 5%\n",
    "    print(f'{Ha} as the p_value ({p_value}) < 0.05')\n",
    "else:\n",
    "    print(f'the p_value ({p_value}) > 0.05')"
   ]
  },
  {
   "cell_type": "markdown",
   "metadata": {},
   "source": [
    "**Conclusion:** There is no sufficient evidence to conclude that Gender has an effect on bmi."
   ]
  },
  {
   "cell_type": "markdown",
   "metadata": {},
   "source": [
    "## 3] Is the proportion of smokers significantly different in different genders?"
   ]
  },
  {
   "cell_type": "code",
   "execution_count": 20,
   "metadata": {},
   "outputs": [
    {
     "data": {
      "image/png": "[encoded data removed]",
      "text/plain": [
       "<matplotlib.figure.Figure at 0x142602824e0>"
      ]
     },
     "metadata": {},
     "output_type": "display_data"
    }
   ],
   "source": [
    "sns.countplot(x=df.sex,hue=df.smoker)\n",
    "plt.show()"
   ]
  },
  {
   "cell_type": "markdown",
   "metadata": {},
   "source": [
    "**The above question can be analysed by two methods** :\n",
    "\n",
    "- Test for proportions.\n",
    "- Chi-square test.\n"
   ]
  },
  {
   "cell_type": "code",
   "execution_count": 21,
   "metadata": {
    "collapsed": true
   },
   "outputs": [],
   "source": [
    "Ho = \"Gender has no effect on smoking habits\"   # Stating the Null Hypothesis\n",
    "Ha = \"Gender has an effect on smoking habits\"   # Stating the Alternate Hypothesis"
   ]
  },
  {
   "cell_type": "markdown",
   "metadata": {},
   "source": [
    "** Using Test for Proportions** \n",
    "- Test for proportions based on normal (z) test."
   ]
  },
  {
   "cell_type": "code",
   "execution_count": 22,
   "metadata": {
    "collapsed": true
   },
   "outputs": [],
   "source": [
    "d_m=df[df.sex=='male'].smoker.value_counts()[1] # Number of male smokers\n",
    "d_f=df[df.sex=='female'].smoker.value_counts()[1] # Number of female smokers"
   ]
  },
  {
   "cell_type": "code",
   "execution_count": 23,
   "metadata": {
    "collapsed": true
   },
   "outputs": [],
   "source": [
    "m=df.sex.value_counts()[0] # Number of males\n",
    "f=df.sex.value_counts()[1] # Number of females"
   ]
  },
  {
   "cell_type": "code",
   "execution_count": 24,
   "metadata": {
    "collapsed": true
   },
   "outputs": [],
   "source": [
    "Ho = \"Gender has no effect on smoking habits\"   # Stating the Null Hypothesis\n",
    "Ha = \"Gender has an effect on smoking habits\"   # Stating the Alternate Hypothesis\n"
   ]
  },
  {
   "cell_type": "code",
   "execution_count": 25,
   "metadata": {},
   "outputs": [
    {
     "name": "stdout",
     "output_type": "stream",
     "text": [
      "Gender has an effect on smoking habits as p-value of 0.0053 < 0.05.\n"
     ]
    }
   ],
   "source": [
    "from statsmodels.stats.proportion import proportions_ztest\n",
    "\n",
    "stat, pval = proportions_ztest([d_m, d_f] , [m,f])\n",
    "\n",
    "if pval < 0.05:\n",
    "    print(f'{Ha} as p-value of {round(pval,4)} < 0.05.')\n",
    "else:\n",
    "    print(f'{Ho} as p-value of {round(pval,4)} > 0.05.')"
   ]
  },
  {
   "cell_type": "markdown",
   "metadata": {},
   "source": [
    "**Conclusion:** There is sufficient evidence to conclude that the proportions of male smokers is significantly different then that of female smokers."
   ]
  },
  {
   "cell_type": "markdown",
   "metadata": {},
   "source": [
    "**Using Chi-Square Test**\n",
    "- Chi-square test of independence of variables in a contingency table.This function computes the chi-square statistic and p-value for the hypothesis test of independence of the observed frequencies in the contingency table."
   ]
  },
  {
   "cell_type": "code",
   "execution_count": 26,
   "metadata": {},
   "outputs": [
    {
     "name": "stdout",
     "output_type": "stream",
     "text": [
      "Gender has an effect on smoking habits as the p_value (0.007) < 0.05\n"
     ]
    },
    {
     "data": {
      "text/html": [
       "<div>\n",
       "<style>\n",
       "    .dataframe thead tr:only-child th {\n",
       "        text-align: right;\n",
       "    }\n",
       "\n",
       "    .dataframe thead th {\n",
       "        text-align: left;\n",
       "    }\n",
       "\n",
       "    .dataframe tbody tr th {\n",
       "        vertical-align: top;\n",
       "    }\n",
       "</style>\n",
       "<table border=\"1\" class=\"dataframe\">\n",
       "  <thead>\n",
       "    <tr style=\"text-align: right;\">\n",
       "      <th>smoker</th>\n",
       "      <th>no</th>\n",
       "      <th>yes</th>\n",
       "    </tr>\n",
       "    <tr>\n",
       "      <th>sex</th>\n",
       "      <th></th>\n",
       "      <th></th>\n",
       "    </tr>\n",
       "  </thead>\n",
       "  <tbody>\n",
       "    <tr>\n",
       "      <th>female</th>\n",
       "      <td>547</td>\n",
       "      <td>115</td>\n",
       "    </tr>\n",
       "    <tr>\n",
       "      <th>male</th>\n",
       "      <td>517</td>\n",
       "      <td>159</td>\n",
       "    </tr>\n",
       "  </tbody>\n",
       "</table>\n",
       "</div>"
      ],
      "text/plain": [
       "smoker   no  yes\n",
       "sex             \n",
       "female  547  115\n",
       "male    517  159"
      ]
     },
     "execution_count": 26,
     "metadata": {},
     "output_type": "execute_result"
    }
   ],
   "source": [
    "crosstab = pd.crosstab(df['sex'],df['smoker'])  # Contingency table of sex and smoker attributes\n",
    "\n",
    "chi, p_value, dof, expected =  stats.chi2_contingency(crosstab)\n",
    "\n",
    "if p_value < 0.05:  # Setting our significance level at 5%\n",
    "    print(f'{Ha} as the p_value ({p_value.round(3)}) < 0.05')\n",
    "else:\n",
    "    print(f'{Ho} as the p_value ({p_value.round(3)}) > 0.05')\n",
    "crosstab"
   ]
  },
  {
   "cell_type": "markdown",
   "metadata": {},
   "source": [
    "**Conclusion:** There is sufficient evidence to conclude that the proportions of male smokers is significantly different then that of female smokers."
   ]
  },
  {
   "cell_type": "markdown",
   "metadata": {},
   "source": [
    "## To check if there is region has effect on smoking habits"
   ]
  },
  {
   "cell_type": "code",
   "execution_count": 27,
   "metadata": {},
   "outputs": [
    {
     "data": {
      "image/png": "[encoded data removed]",
      "text/plain": [
       "<matplotlib.figure.Figure at 0x142602f19e8>"
      ]
     },
     "metadata": {},
     "output_type": "display_data"
    }
   ],
   "source": [
    "sns.countplot(x=df.region,hue=df.smoker)\n",
    "plt.show()"
   ]
  },
  {
   "cell_type": "code",
   "execution_count": 28,
   "metadata": {},
   "outputs": [
    {
     "name": "stdout",
     "output_type": "stream",
     "text": [
      " the p_value (0.062) > 0.05\n"
     ]
    },
    {
     "data": {
      "text/html": [
       "<div>\n",
       "<style>\n",
       "    .dataframe thead tr:only-child th {\n",
       "        text-align: right;\n",
       "    }\n",
       "\n",
       "    .dataframe thead th {\n",
       "        text-align: left;\n",
       "    }\n",
       "\n",
       "    .dataframe tbody tr th {\n",
       "        vertical-align: top;\n",
       "    }\n",
       "</style>\n",
       "<table border=\"1\" class=\"dataframe\">\n",
       "  <thead>\n",
       "    <tr style=\"text-align: right;\">\n",
       "      <th>region</th>\n",
       "      <th>northeast</th>\n",
       "      <th>northwest</th>\n",
       "      <th>southeast</th>\n",
       "      <th>southwest</th>\n",
       "    </tr>\n",
       "    <tr>\n",
       "      <th>smoker</th>\n",
       "      <th></th>\n",
       "      <th></th>\n",
       "      <th></th>\n",
       "      <th></th>\n",
       "    </tr>\n",
       "  </thead>\n",
       "  <tbody>\n",
       "    <tr>\n",
       "      <th>no</th>\n",
       "      <td>257</td>\n",
       "      <td>267</td>\n",
       "      <td>273</td>\n",
       "      <td>267</td>\n",
       "    </tr>\n",
       "    <tr>\n",
       "      <th>yes</th>\n",
       "      <td>67</td>\n",
       "      <td>58</td>\n",
       "      <td>91</td>\n",
       "      <td>58</td>\n",
       "    </tr>\n",
       "  </tbody>\n",
       "</table>\n",
       "</div>"
      ],
      "text/plain": [
       "region  northeast  northwest  southeast  southwest\n",
       "smoker                                            \n",
       "no            257        267        273        267\n",
       "yes            67         58         91         58"
      ]
     },
     "execution_count": 28,
     "metadata": {},
     "output_type": "execute_result"
    }
   ],
   "source": [
    "# Chi_square test to check if smoking habits are different for people of different regions\n",
    "Ho = \"Region has no effect on smoking habits\"   # Stating the Null Hypothesis\n",
    "Ha = \"Region has an effect on smoking habits\"   # Stating the Alternate Hypothesis\n",
    "\n",
    "crosstab = pd.crosstab(df['smoker'], df['region'])  # Contingency table of sex and smoker attributes\n",
    "\n",
    "chi, p_value, dof, expected =  stats.chi2_contingency(crosstab)\n",
    "\n",
    "if p_value < 0.05:  # Setting our significance level at 5%\n",
    "    print(f'{Ha} as the p_value ({p_value.round(3)}) < 0.05')\n",
    "else:\n",
    "    print(f' the p_value ({p_value.round(3)}) > 0.05')\n",
    "crosstab"
   ]
  },
  {
   "cell_type": "markdown",
   "metadata": {},
   "source": [
    "**Conclusion:**There is no suuficient evidence to conclude that the region has an effect on smoking habits."
   ]
  },
  {
   "cell_type": "markdown",
   "metadata": {},
   "source": [
    "## Is the distribution of bmi across women with no children, one child and two children, the same ?"
   ]
  },
  {
   "cell_type": "code",
   "execution_count": 29,
   "metadata": {},
   "outputs": [
    {
     "data": {
      "image/png": "[encoded data removed]",
      "text/plain": [
       "<matplotlib.figure.Figure at 0x142605b9be0>"
      ]
     },
     "metadata": {},
     "output_type": "display_data"
    }
   ],
   "source": [
    "sns.stripplot(df['children'],df['bmi'],jitter=True)\n",
    "plt.show()"
   ]
  },
  {
   "cell_type": "markdown",
   "metadata": {},
   "source": [
    "** We use Analysis of variance aka ANOVA(one way). **\n",
    "\n",
    "- The one-way ANOVA tests the null hypothesis that two or more groups have the same population mean.  The test is applied to samples from two or more groups, possibly with differing sizes."
   ]
  },
  {
   "cell_type": "code",
   "execution_count": 30,
   "metadata": {},
   "outputs": [
    {
     "name": "stdout",
     "output_type": "stream",
     "text": [
      "the p_value (0.716) > 0.05\n"
     ]
    }
   ],
   "source": [
    "# Test to see if the distributions of bmi values for females having different number of children, are significantly different\n",
    "\n",
    "Ho = \"No. of children has no effect on bmi\"   # Stating the Null Hypothesis\n",
    "Ha = \"No. of children has an effect on bmi\"   # Stating the Alternate Hypothesis\n",
    "\n",
    "\n",
    "female_df = copy.deepcopy(df[df['sex'] == 'female'])\n",
    "female_df.head()\n",
    "zero = female_df[female_df.children == 0]['bmi']\n",
    "one = female_df[female_df.children == 1]['bmi']\n",
    "two = female_df[female_df.children == 2]['bmi']\n",
    "\n",
    "\n",
    "f_stat, p_value = stats.f_oneway(zero,one,two)\n",
    "\n",
    "\n",
    "if p_value < 0.05:  # Setting our significance level at 5%\n",
    "    print(f'{Ha} as the p_value ({p_value.round(3)}) < 0.05')\n",
    "else:\n",
    "    print(f'the p_value ({p_value.round(3)}) > 0.05')\n"
   ]
  },
  {
   "cell_type": "markdown",
   "metadata": {},
   "source": [
    "**Conclusion:**There is no sufficient evidence to conclude that the no. of children has an effect on bmi."
   ]
  }
 ],
 "metadata": {
  "kernelspec": {
   "display_name": "Python 3",
   "language": "python",
   "name": "python3"
  },
  "language_info": {
   "codemirror_mode": {
    "name": "ipython",
    "version": 3
   },
   "file_extension": ".py",
   "mimetype": "text/x-python",
   "name": "python",
   "nbconvert_exporter": "python",
   "pygments_lexer": "ipython3",
   "version": "3.6.3"
  }
 },
 "nbformat": 4,
 "nbformat_minor": 2
}
